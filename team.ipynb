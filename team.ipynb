{
 "cells": [
  {
   "cell_type": "code",
   "execution_count": 1,
   "metadata": {},
   "outputs": [
    {
     "data": {
      "text/html": [
       "<table border=\"1\" class=\"dataframe\">\n",
       "  <thead>\n",
       "    <tr style=\"text-align: right;\">\n",
       "      <th></th>\n",
       "      <th>game_id</th>\n",
       "      <th>year_id</th>\n",
       "      <th>fran_id</th>\n",
       "      <th>pts</th>\n",
       "      <th>opp_pts</th>\n",
       "      <th>elo_n</th>\n",
       "      <th>opp_elo_n</th>\n",
       "      <th>game_location</th>\n",
       "      <th>game_result</th>\n",
       "    </tr>\n",
       "  </thead>\n",
       "  <tbody>\n",
       "    <tr>\n",
       "      <th>0</th>\n",
       "      <td>199511030CHI</td>\n",
       "      <td>1996</td>\n",
       "      <td>Bulls</td>\n",
       "      <td>105</td>\n",
       "      <td>91</td>\n",
       "      <td>1598.2924</td>\n",
       "      <td>1531.7449</td>\n",
       "      <td>H</td>\n",
       "      <td>W</td>\n",
       "    </tr>\n",
       "    <tr>\n",
       "      <th>1</th>\n",
       "      <td>199511040CHI</td>\n",
       "      <td>1996</td>\n",
       "      <td>Bulls</td>\n",
       "      <td>107</td>\n",
       "      <td>85</td>\n",
       "      <td>1604.3940</td>\n",
       "      <td>1458.6415</td>\n",
       "      <td>H</td>\n",
       "      <td>W</td>\n",
       "    </tr>\n",
       "    <tr>\n",
       "      <th>2</th>\n",
       "      <td>199511070CHI</td>\n",
       "      <td>1996</td>\n",
       "      <td>Bulls</td>\n",
       "      <td>117</td>\n",
       "      <td>108</td>\n",
       "      <td>1605.7983</td>\n",
       "      <td>1310.9349</td>\n",
       "      <td>H</td>\n",
       "      <td>W</td>\n",
       "    </tr>\n",
       "    <tr>\n",
       "      <th>3</th>\n",
       "      <td>199511090CLE</td>\n",
       "      <td>1996</td>\n",
       "      <td>Bulls</td>\n",
       "      <td>106</td>\n",
       "      <td>88</td>\n",
       "      <td>1618.8701</td>\n",
       "      <td>1452.8268</td>\n",
       "      <td>A</td>\n",
       "      <td>W</td>\n",
       "    </tr>\n",
       "    <tr>\n",
       "      <th>4</th>\n",
       "      <td>199511110CHI</td>\n",
       "      <td>1996</td>\n",
       "      <td>Bulls</td>\n",
       "      <td>110</td>\n",
       "      <td>106</td>\n",
       "      <td>1621.1591</td>\n",
       "      <td>1490.2861</td>\n",
       "      <td>H</td>\n",
       "      <td>W</td>\n",
       "    </tr>\n",
       "  </tbody>\n",
       "</table>"
      ],
      "text/plain": [
       "<IPython.core.display.HTML object>"
      ]
     },
     "metadata": {},
     "output_type": "display_data"
    },
    {
     "name": "stdout",
     "output_type": "stream",
     "text": [
      "printed only the first five observations...\n",
      "('Number of rows in the data set =', 246)\n"
     ]
    }
   ],
   "source": [
    "import numpy as np\n",
    "import pandas as pd\n",
    "import scipy.stats as st\n",
    "import matplotlib.pyplot as plt\n",
    "from IPython.display import display, HTML\n",
    "\n",
    "nba_orig_df = pd.read_csv('nbaallelo.csv')\n",
    "nba_orig_df = nba_orig_df[(nba_orig_df['lg_id']=='NBA') & (nba_orig_df['is_playoffs']==0)]\n",
    "columns_to_keep = ['game_id','year_id','fran_id','pts','opp_pts','elo_n','opp_elo_n', 'game_location', 'game_result']\n",
    "nba_orig_df = nba_orig_df[columns_to_keep]\n",
    "\n",
    "# The dataframe for the assigned team is called assigned_team_df. \n",
    "# The assigned team is the Chicago Bulls from 1996-1998.\n",
    "assigned_years_league_df = nba_orig_df[(nba_orig_df['year_id'].between(1996, 1998))]\n",
    "assigned_team_df = assigned_years_league_df[(assigned_years_league_df['fran_id']=='Bulls')]\n",
    "assigned_team_df = assigned_team_df.reset_index(drop=True)\n",
    "\n",
    "display(HTML(assigned_team_df.head().to_html()))\n",
    "print(\"printed only the first five observations...\")\n",
    "print(\"Number of rows in the data set =\", len(assigned_team_df))"
   ]
  },
  {
   "cell_type": "code",
   "execution_count": 2,
   "metadata": {},
   "outputs": [
    {
     "data": {
      "text/html": [
       "<table border=\"1\" class=\"dataframe\">\n",
       "  <thead>\n",
       "    <tr style=\"text-align: right;\">\n",
       "      <th></th>\n",
       "      <th>game_id</th>\n",
       "      <th>year_id</th>\n",
       "      <th>fran_id</th>\n",
       "      <th>pts</th>\n",
       "      <th>opp_pts</th>\n",
       "      <th>elo_n</th>\n",
       "      <th>opp_elo_n</th>\n",
       "      <th>game_location</th>\n",
       "      <th>game_result</th>\n",
       "    </tr>\n",
       "  </thead>\n",
       "  <tbody>\n",
       "    <tr>\n",
       "      <th>0</th>\n",
       "      <td>201210300MIA</td>\n",
       "      <td>2013</td>\n",
       "      <td>Heat</td>\n",
       "      <td>120</td>\n",
       "      <td>107</td>\n",
       "      <td>1666.3193</td>\n",
       "      <td>1586.1121</td>\n",
       "      <td>H</td>\n",
       "      <td>W</td>\n",
       "    </tr>\n",
       "    <tr>\n",
       "      <th>1</th>\n",
       "      <td>201211020NYK</td>\n",
       "      <td>2013</td>\n",
       "      <td>Heat</td>\n",
       "      <td>84</td>\n",
       "      <td>104</td>\n",
       "      <td>1647.6675</td>\n",
       "      <td>1548.2699</td>\n",
       "      <td>A</td>\n",
       "      <td>L</td>\n",
       "    </tr>\n",
       "    <tr>\n",
       "      <th>2</th>\n",
       "      <td>201211030MIA</td>\n",
       "      <td>2013</td>\n",
       "      <td>Heat</td>\n",
       "      <td>119</td>\n",
       "      <td>116</td>\n",
       "      <td>1650.0934</td>\n",
       "      <td>1554.4674</td>\n",
       "      <td>H</td>\n",
       "      <td>W</td>\n",
       "    </tr>\n",
       "    <tr>\n",
       "      <th>3</th>\n",
       "      <td>201211050MIA</td>\n",
       "      <td>2013</td>\n",
       "      <td>Heat</td>\n",
       "      <td>124</td>\n",
       "      <td>99</td>\n",
       "      <td>1656.5652</td>\n",
       "      <td>1504.0280</td>\n",
       "      <td>H</td>\n",
       "      <td>W</td>\n",
       "    </tr>\n",
       "    <tr>\n",
       "      <th>4</th>\n",
       "      <td>201211070MIA</td>\n",
       "      <td>2013</td>\n",
       "      <td>Heat</td>\n",
       "      <td>103</td>\n",
       "      <td>73</td>\n",
       "      <td>1659.7239</td>\n",
       "      <td>1361.5804</td>\n",
       "      <td>H</td>\n",
       "      <td>W</td>\n",
       "    </tr>\n",
       "  </tbody>\n",
       "</table>"
      ],
      "text/plain": [
       "<IPython.core.display.HTML object>"
      ]
     },
     "metadata": {},
     "output_type": "display_data"
    },
    {
     "name": "stdout",
     "output_type": "stream",
     "text": [
      "printed only the first five observations...\n",
      "('Number of rows in the data set =', 246)\n"
     ]
    }
   ],
   "source": [
    "\n",
    "# Range of years: 2013-2015 (Note: The line below selects ALL teams within the three-year period 2013-2015. This is not your team's dataframe.\n",
    "your_years_leagues_df = nba_orig_df[(nba_orig_df['year_id'].between(2013, 2015))]\n",
    "\n",
    "# The dataframe for your team is called your_team_df.\n",
    "# ---- TODO: make your edits here ----\n",
    "your_team_df = your_years_leagues_df[(your_years_leagues_df['fran_id']=='Heat')]\n",
    "your_team_df = your_team_df.reset_index(drop=True)\n",
    "\n",
    "display(HTML(your_team_df.head().to_html()))\n",
    "print(\"printed only the first five observations...\")\n",
    "print(\"Number of rows in the data set =\", len(your_team_df))\n",
    "        "
   ]
  },
  {
   "cell_type": "code",
   "execution_count": 4,
   "metadata": {},
   "outputs": [
    {
     "data": {
      "image/png": "[encoded data removed]",
      "text/plain": [
       "<Figure size 432x288 with 1 Axes>"
      ]
     },
     "metadata": {
      "needs_background": "light"
     },
     "output_type": "display_data"
    },
    {
     "name": "stdout",
     "output_type": "stream",
     "text": [
      "\n"
     ]
    }
   ],
   "source": [
    "import seaborn as sns\n",
    "\n",
    "# Histogram\n",
    "fig, ax = plt.subplots()\n",
    "plt.hist(your_team_df['pts'], bins=20)\n",
    "plt.title('Histogram of points scored by Your Team in 2013 to 2015', fontsize=18)\n",
    "ax.set_xlabel('Points')\n",
    "ax.set_ylabel('Frequency')\n",
    "plt.show()\n",
    "print(\"\")\n",
    "\n",
    "# # Scatterplot\n",
    "# plt.title('Scatterplot of points scored by Your Team in 2013 to 2015', fontsize=18)\n",
    "# sns.regplot(your_team_df['year_id'], your_team_df['pts'], ci=None)\n",
    "# plt.show()"
   ]
  },
  {
   "cell_type": "code",
   "execution_count": 6,
   "metadata": {},
   "outputs": [
    {
     "data": {
      "image/png": "[encoded data removed]",
      "text/plain": [
       "<Figure size 432x288 with 1 Axes>"
      ]
     },
     "metadata": {
      "needs_background": "light"
     },
     "output_type": "display_data"
    }
   ],
   "source": [
    "import seaborn as sns\n",
    "\n",
    "# Histogram\n",
    "fig, ax = plt.subplots()\n",
    "plt.hist(assigned_team_df['pts'], bins=20)\n",
    "plt.title('Histogram of points scored by the Bulls in 1996 to 1998', fontsize=18)\n",
    "ax.set_xlabel('Points')\n",
    "ax.set_ylabel('Frequency')\n",
    "plt.show()\n",
    "\n",
    "# # Scatterplot\n",
    "# plt.title('Scatterplot of points scored by the Bulls in 1996 to 1998', fontsize=18)\n",
    "# sns.regplot(assigned_team_df['year_id'], assigned_team_df['pts'], ci=None)\n",
    "# plt.show()"
   ]
  },
  {
   "cell_type": "code",
   "execution_count": 7,
   "metadata": {},
   "outputs": [
    {
     "data": {
      "image/png": "[encoded data removed]",
      "text/plain": [
       "<Figure size 432x288 with 1 Axes>"
      ]
     },
     "metadata": {
      "needs_background": "light"
     },
     "output_type": "display_data"
    },
    {
     "name": "stdout",
     "output_type": "stream",
     "text": [
      "\n"
     ]
    },
    {
     "data": {
      "image/png": "[encoded data removed]",
      "text/plain": [
       "<Figure size 432x288 with 1 Axes>"
      ]
     },
     "metadata": {
      "needs_background": "light"
     },
     "output_type": "display_data"
    }
   ],
   "source": [
    "import seaborn as sns\n",
    "\n",
    "# Side-by-side boxplots\n",
    "both_teams_df = pd.concat((assigned_team_df, your_team_df))\n",
    "plt.title('Boxplot to compare points distribution', fontsize=18) \n",
    "sns.boxplot(x='fran_id',y='pts',data=both_teams_df)\n",
    "plt.show()\n",
    "print(\"\")\n",
    "\n",
    "# Histograms\n",
    "fig, ax = plt.subplots()\n",
    "plt.hist(assigned_team_df['pts'], 20, alpha=0.5, label='Assigned Team')\n",
    "plt.hist(your_team_df['pts'], 20, alpha=0.5, label='Your Team')\n",
    "plt.title('Histogram to compare points distribution', fontsize=18) \n",
    "plt.xlabel('Points')\n",
    "plt.legend(loc='upper right')\n",
    "plt.show()"
   ]
  },
  {
   "cell_type": "code",
   "execution_count": 14,
   "metadata": {},
   "outputs": [
    {
     "name": "stdout",
     "output_type": "stream",
     "text": [
      "Your Team's Relative Skill in 2013 to 2015\n",
      "-------------------------------------------------------\n",
      "('Mean =', 1617.48)\n",
      "('Median =', 1652.57)\n",
      "('Variance =', 9987.2)\n",
      "('Standard Deviation =', 99.94)\n"
     ]
    }
   ],
   "source": [
    "print(\"Your Team's Relative Skill in 2013 to 2015\")\n",
    "print(\"-------------------------------------------------------\")\n",
    "\n",
    "# ---- TODO: make your edits here ----\n",
    "import statistics\n",
    "\n",
    "mean = statistics.mean(your_team_df['elo_n'])\n",
    "median = statistics.median(your_team_df['elo_n'])\n",
    "variance = statistics.variance(your_team_df['elo_n'])\n",
    "stdeviation = statistics.stdev(your_team_df['elo_n'])\n",
    "\n",
    "print('Mean =', round(mean,2))\n",
    "print('Median =', round(median,2))\n",
    "print('Variance =', round(variance,2))\n",
    "print('Standard Deviation =', round(stdeviation,2))"
   ]
  },
  {
   "cell_type": "code",
   "execution_count": 15,
   "metadata": {},
   "outputs": [
    {
     "name": "stdout",
     "output_type": "stream",
     "text": [
      "Assigned Team's Relative Skill in 1996 to 1998\n",
      "-------------------------------------------------------\n",
      "('Mean =', 1739.8)\n",
      "('Median =', 1751.23)\n",
      "('Variance =', 2651.55)\n",
      "('Standard Deviation =', 51.49)\n"
     ]
    }
   ],
   "source": [
    "print(\"Assigned Team's Relative Skill in 1996 to 1998\")\n",
    "print(\"-------------------------------------------------------\")\n",
    "\n",
    "# ---- TODO: make your edits here ----\n",
    "import statistics\n",
    "\n",
    "mean2 = statistics.mean(assigned_team_df['elo_n'])\n",
    "median2 = statistics.median(assigned_team_df['elo_n'])\n",
    "variance2 = statistics.variance(assigned_team_df['elo_n'])\n",
    "stdeviation2 = statistics.stdev(assigned_team_df['elo_n'])\n",
    "\n",
    "print('Mean =', round(mean2,2))\n",
    "print('Median =', round(median2,2))\n",
    "print('Variance =', round(variance2,2))\n",
    "print('Standard Deviation =', round(stdeviation2,2))"
   ]
  },
  {
   "cell_type": "code",
   "execution_count": 21,
   "metadata": {},
   "outputs": [
    {
     "name": "stdout",
     "output_type": "stream",
     "text": [
      "Confidence Interval for Average Relative Skill in the years 2013 to 2015\n",
      "------------------------------------------------------------------------------------------------------------\n",
      "('95% confidence interval (unrounded) for Average Relative Skill (ELO) in the years 2013 to 2015 =', (1614.9004744184529, 1620.059247532767))\n",
      "('95% confidence interval (rounded) for Average Relative Skill (ELO) in the years 2013 to 2015 = (', 1614.9, ',', 1620.06, ')')\n",
      "\n",
      "\n",
      "Probability a team has Average Relative Skill LESS than the Average Relative Skill (ELO) of your team in the years 2013 to 2015\n",
      "----------------------------------------------------------------------------------------------------------------------------------------------------------\n",
      "Which of the two choices is correct?\n",
      "('Choice 1 =', 0.159)\n",
      "('Choice 2 =', 0.841)\n"
     ]
    }
   ],
   "source": [
    "print(\"Confidence Interval for Average Relative Skill in the years 2013 to 2015\")\n",
    "print(\"------------------------------------------------------------------------------------------------------------\")\n",
    "\n",
    "import statistics\n",
    "from scipy import stats as st\n",
    "# Mean relative skill of all teams from the years 2013-2015\n",
    "meann = statistics.mean(your_years_leagues_df['elo_n'])\n",
    "\n",
    "# Standard deviation of the relative skill of all teams from the years 2013-2015\n",
    "sstdev = statistics.stdev(your_years_leagues_df['elo_n'])\n",
    "\n",
    "n = len(your_years_leagues_df)\n",
    "\n",
    "#Confidence interval\n",
    "# ---- TODO: make your edits here ----\n",
    "sstderr = sstdev/(n ** 0.5)\n",
    "conf_int_95 = st.norm.interval(0.95, mean, sstderr)\n",
    "\n",
    "print(\"95% confidence interval (unrounded) for Average Relative Skill (ELO) in the years 2013 to 2015 =\", conf_int_95)\n",
    "print(\"95% confidence interval (rounded) for Average Relative Skill (ELO) in the years 2013 to 2015 = (\",  round(conf_int_95[0], 2),\",\", round(conf_int_95[1], 2),\")\")\n",
    "\n",
    "\n",
    "print(\"\\n\")\n",
    "print(\"Probability a team has Average Relative Skill LESS than the Average Relative Skill (ELO) of your team in the years 2013 to 2015\")\n",
    "print(\"----------------------------------------------------------------------------------------------------------------------------------------------------------\")\n",
    "\n",
    "mean_elo_your_team = statistics.mean(your_team_df['elo_n'])\n",
    "\n",
    "choice1 = st.norm.sf(mean_elo_your_team, meann, sstdev)\n",
    "choice2 = st.norm.cdf(mean_elo_your_team, meann, sstdev)\n",
    "\n",
    "# Pick the correct answer.\n",
    "print(\"Which of the two choices is correct?\")\n",
    "print(\"Choice 1 =\", round(choice1,4))\n",
    "print(\"Choice 2 =\", round(choice2,4))"
   ]
  },
  {
   "cell_type": "code",
   "execution_count": 23,
   "metadata": {},
   "outputs": [
    {
     "name": "stdout",
     "output_type": "stream",
     "text": [
      "Confidence Interval for Average Relative Skill in the years 1996 to 1998\n",
      "------------------------------------------------------------------------------------------------------------\n",
      "('95% confidence interval (unrounded) for Average Relative Skill (ELO) in the years 2013 to 2015 =', (1487.6565859527095, 1493.6465501840999))\n",
      "('95% confidence interval (rounded) for Average Relative Skill (ELO) in the years 2013 to 2015 = (', 1487.66, ',', 1493.65, ')')\n",
      "\n",
      "\n",
      "Probability a team has Average Relative Skill LESS than the Average Relative Skill (ELO) of your team in the years 2013 to 2015\n",
      "----------------------------------------------------------------------------------------------------------------------------------------------------------\n",
      "Which of the two choices is correct?\n",
      "('Choice 1 =', 0.5)\n",
      "('Choice 2 =', 0.5)\n"
     ]
    }
   ],
   "source": [
    "print(\"Confidence Interval for Average Relative Skill in the years 1996 to 1998\")\n",
    "print(\"------------------------------------------------------------------------------------------------------------\")\n",
    "\n",
    "import statistics\n",
    "from scipy import stats as st\n",
    "# Mean relative skill of all teams from the years 2013-2015\n",
    "mean3 = statistics.mean(assigned_years_league_df['elo_n'])\n",
    "\n",
    "# Standard deviation of the relative skill of all teams from the years 2013-2015\n",
    "stdev3 = statistics.stdev(assigned_years_league_df['elo_n'])\n",
    "\n",
    "n = len(assigned_years_league_df)\n",
    "\n",
    "#Confidence interval\n",
    "# ---- TODO: make your edits here ----\n",
    "stderr2 = stdev3/(n ** 0.5)\n",
    "conf_int_95 = st.norm.interval(0.95, mean3, stderr2)\n",
    "\n",
    "print(\"95% confidence interval (unrounded) for Average Relative Skill (ELO) in the years 2013 to 2015 =\", conf_int_95)\n",
    "print(\"95% confidence interval (rounded) for Average Relative Skill (ELO) in the years 2013 to 2015 = (\",  round(conf_int_95[0], 2),\",\", round(conf_int_95[1], 2),\")\")\n",
    "\n",
    "\n",
    "print(\"\\n\")\n",
    "print(\"Probability a team has Average Relative Skill LESS than the Average Relative Skill (ELO) of your team in the years 2013 to 2015\")\n",
    "print(\"----------------------------------------------------------------------------------------------------------------------------------------------------------\")\n",
    "\n",
    "mean_elo_assigned_team = statistics.mean(assigned_years_league_df['elo_n'])\n",
    "\n",
    "choice1 = st.norm.sf(mean_elo_assigned_team, mean3, stdev3)\n",
    "choice2 = st.norm.cdf(mean_elo_assigned_team, mean3, stdev3)\n",
    "\n",
    "# Pick the correct answer.\n",
    "print(\"Which of the two choices is correct?\")\n",
    "print(\"Choice 1 =\", round(choice1,4))\n",
    "print(\"Choice 2 =\", round(choice2,4))"
   ]
  },
  {
   "cell_type": "code",
   "execution_count": null,
   "metadata": {},
   "outputs": [],
   "source": []
  }
 ],
 "metadata": {
  "kernelspec": {
   "display_name": "Python 2",
   "language": "python",
   "name": "python2"
  },
  "language_info": {
   "codemirror_mode": {
    "name": "ipython",
    "version": 2
   },
   "file_extension": ".py",
   "mimetype": "text/x-python",
   "name": "python",
   "nbconvert_exporter": "python",
   "pygments_lexer": "ipython2",
   "version": "2.7.15"
  }
 },
 "nbformat": 4,
 "nbformat_minor": 2
}
